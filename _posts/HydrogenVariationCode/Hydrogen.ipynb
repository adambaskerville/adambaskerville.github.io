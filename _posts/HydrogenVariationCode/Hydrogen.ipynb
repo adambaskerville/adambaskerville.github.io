{
 "cells": [
  {
   "cell_type": "markdown",
   "source": [
    "# Solving hydrogen atom variationally"
   ],
   "metadata": {}
  },
  {
   "cell_type": "code",
   "execution_count": null,
   "source": [
    "from scipy.optimize import minimize\n",
    "\n",
    "def min(c):\n",
    "    # Define our energy function\n",
    "    E = (c**2/2) - c\n",
    "    # print off useful information each optimisation cycle\n",
    "    print(\"c = {:.6f}, Energy = {:.16f}\".format(c[0], E[0]))\n",
    "    \n",
    "    return E\n",
    "\n",
    "# Provide an initial guess for the variational parameter c\n",
    "c = 5\n",
    "# Optimise the min function by varying c with a tolerance of 1e-6\n",
    "hydrogen_gs = minimize(min, c, tol=1e-6) "
   ],
   "outputs": [],
   "metadata": {}
  }
 ],
 "metadata": {
  "kernelspec": {
   "name": "python3",
   "display_name": "Python 3.7.3 64-bit ('my_env': conda)"
  },
  "language_info": {
   "codemirror_mode": {
    "name": "ipython",
    "version": 3
   },
   "file_extension": ".py",
   "mimetype": "text/x-python",
   "name": "python",
   "nbconvert_exporter": "python",
   "pygments_lexer": "ipython3",
   "version": "3.7.3"
  },
  "toc-autonumbering": true,
  "interpreter": {
   "hash": "cd501d028a634546aefada2f7b1d53034b88b0f6a86fc9de2069dab1a4dcf12e"
  }
 },
 "nbformat": 4,
 "nbformat_minor": 4
}