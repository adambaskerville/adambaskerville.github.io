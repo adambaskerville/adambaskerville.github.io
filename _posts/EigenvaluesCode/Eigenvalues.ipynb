{
 "cells": [
  {
   "cell_type": "markdown",
   "source": [
    "# Higher precision eigenvalues"
   ],
   "metadata": {}
  },
  {
   "cell_type": "code",
   "execution_count": null,
   "source": [
    "from rogues import lesp\n",
    "from matplotlib import pyplot\n",
    "import seaborn as sns \n",
    "from scipy.linalg import eigvals\n",
    "from mpmath import *\n",
    "# Set precision to 32-digit\n",
    "mp.dps = 32\n",
    "\n",
    "sns.set()\n",
    "palette = sns.color_palette(\"bright\")\n",
    "\n",
    "# Dimension of matrix\n",
    "dim = 100\n",
    "# Lesp matrix\n",
    "A = lesp(dim)\n",
    "# Transpose matrix A\n",
    "AT = A.T\n",
    "# Calculate eigenvalues of A\n",
    "Aev, Eeg = mp.eig(mp.matrix(A))\n",
    "# Calculate eigenvalues of A^T\n",
    "ATev, ETeg = mp.eig(mp.matrix(AT))\n",
    "# Extract real and imaginary parts of A\n",
    "A_X = [x.real for x in Aev]\n",
    "A_Y = [x.imag for x in Aev]\n",
    "# Extract real and imaginary parts of A^T\n",
    "AT_X = [x.real for x in ATev]\n",
    "AT_Y = [x.imag for x in ATev]\n",
    "\n",
    "# Plot\n",
    "ax = sns.scatterplot(x=A_X, y=A_Y, color = 'gray', marker='o', label=r'$\\mathbf{A}$')\n",
    "ax = sns.scatterplot(x=AT_X, y=AT_Y, color = 'blue', marker='x', label=r'$\\mathbf{A}^T$')\n",
    "# Give axis labels\n",
    "ax.set(xlabel=r'real', ylabel=r'imag')\n",
    "# Draw legend\n",
    "ax.legend()\n",
    "\n",
    "pyplot.show()"
   ],
   "outputs": [],
   "metadata": {}
  }
 ],
 "metadata": {
  "kernelspec": {
   "name": "python3",
   "display_name": "Python 3.7.3 64-bit ('my_env': conda)"
  },
  "language_info": {
   "codemirror_mode": {
    "name": "ipython",
    "version": 3
   },
   "file_extension": ".py",
   "mimetype": "text/x-python",
   "name": "python",
   "nbconvert_exporter": "python",
   "pygments_lexer": "ipython3",
   "version": "3.7.3"
  },
  "toc-autonumbering": true,
  "interpreter": {
   "hash": "cd501d028a634546aefada2f7b1d53034b88b0f6a86fc9de2069dab1a4dcf12e"
  }
 },
 "nbformat": 4,
 "nbformat_minor": 4
}