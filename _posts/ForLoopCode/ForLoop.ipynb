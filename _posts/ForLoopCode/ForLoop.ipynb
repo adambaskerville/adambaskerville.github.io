{
 "cells": [
  {
   "cell_type": "markdown",
   "metadata": {},
   "source": [
    "# Sequential For Loops"
   ]
  },
  {
   "cell_type": "code",
   "execution_count": null,
   "metadata": {
    "metadata": {}
   },
   "outputs": [],
   "source": [
    "import time\n",
    "import math\n",
    "\n",
    "\n",
    "def compute_factorial(n: int) -> int:\n",
    "    \"\"\"\n",
    "    Compute a factorial of a provided integer\n",
    "\n",
    "    Args:\n",
    "        n (int): The integer to calculate the factorial of\n",
    "\n",
    "    Returns:\n",
    "        int: The calculated factorial\n",
    "    \"\"\"\n",
    "    return math.factorial(n)\n",
    "\n",
    "# list of numbers\n",
    "numbers = [i for i in range(1, 20000)]\n",
    "\n",
    "# measure time taken to compute factorials sequentially\n",
    "start_time = time.time()\n",
    "factorials_sequential = [compute_factorial(number) for number in numbers]\n",
    "end_time = time.time()\n",
    "\n",
    "print(f\"Sequential computation took {end_time - start_time:.4f} seconds\")\n"
   ]
  },
  {
   "cell_type": "markdown",
   "metadata": {},
   "source": [
    "# Parallel For Loops"
   ]
  },
  {
   "cell_type": "code",
   "execution_count": null,
   "metadata": {
    "metadata": {}
   },
   "outputs": [],
   "source": [
    "from joblib import Parallel, delayed, cpu_count\n",
    "\n",
    "# measure time taken to compute factorials in parallel\n",
    "start_time = time.time()\n",
    "factorials_parallel = Parallel(n_jobs=cpu_count())(delayed(compute_factorial)(number) for number in numbers)\n",
    "end_time = time.time()\n",
    "\n",
    "print(f\"Parallel computation took {end_time - start_time:.4f} seconds\")"
   ]
  }
 ],
 "metadata": {
  "interpreter": {
   "hash": "cd501d028a634546aefada2f7b1d53034b88b0f6a86fc9de2069dab1a4dcf12e"
  },
  "kernelspec": {
   "display_name": "Python 3.7.3 64-bit ('my_env': conda)",
   "name": "python3"
  },
  "language_info": {
   "codemirror_mode": {
    "name": "ipython",
    "version": 3
   },
   "file_extension": ".py",
   "mimetype": "text/x-python",
   "name": "python",
   "nbconvert_exporter": "python",
   "pygments_lexer": "ipython3",
   "version": "3.11.6"
  },
  "toc-autonumbering": true
 },
 "nbformat": 4,
 "nbformat_minor": 4
}
